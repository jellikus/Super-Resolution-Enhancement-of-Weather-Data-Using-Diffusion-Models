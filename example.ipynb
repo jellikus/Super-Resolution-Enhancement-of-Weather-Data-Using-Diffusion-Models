{
 "cells": [
  {
   "cell_type": "markdown",
   "metadata": {},
   "source": [
    "##  Simple code examples\n",
    "\n",
    "##### To run the code, download the training data from the link provided in the README file. For sampling, also download the pre-trained models. "
   ]
  },
  {
   "cell_type": "markdown",
   "metadata": {},
   "source": [
    "###  Training example"
   ]
  },
  {
   "cell_type": "code",
   "execution_count": null,
   "metadata": {
    "ExecuteTime": {
     "end_time": "2024-05-16T17:13:50.159713716Z",
     "start_time": "2024-05-16T17:13:25.483619389Z"
    },
    "collapsed": false
   },
   "outputs": [],
   "source": [
    "# In resdiff+physics_train_example.json config file change the dataset path to the path of your downloaded dataset\n",
    "!python train.py -gpu 0 -c configs/experiment_configs/phydiff/resdiff+physics_train_example.json"
   ]
  },
  {
   "cell_type": "markdown",
   "metadata": {
    "collapsed": false
   },
   "source": [
    "###  Sampling example"
   ]
  },
  {
   "cell_type": "code",
   "execution_count": null,
   "metadata": {
    "ExecuteTime": {
     "end_time": "2024-05-16T17:46:57.961406733Z",
     "start_time": "2024-05-16T17:45:07.393692810Z"
    }
   },
   "outputs": [],
   "source": [
    "# In resdiff+physics_train_example.json change model path to the path of your downloaded model\n",
    "!python sample.py -gpu 0 -c configs/experiment_configs/phydiff/resdiff+physics_train_example.json -o example/resdiff+physics_example -n 1 -t HR SR LR INTERPOLATED DELTA AE -d"
   ]
  },
  {
   "cell_type": "markdown",
   "metadata": {
    "collapsed": false
   },
   "source": [
    "###  Validation example"
   ]
  },
  {
   "cell_type": "code",
   "execution_count": null,
   "metadata": {
    "ExecuteTime": {
     "end_time": "2024-05-16T17:53:07.211556383Z",
     "start_time": "2024-05-16T17:48:56.621444705Z"
    },
    "collapsed": false
   },
   "outputs": [],
   "source": [
    "# In resdiff+physics_eval_example.json change model path and dataset path\n",
    "!python train.py -gpu 0 -c configs/experiment_configs/phydiff/resdiff+physics_eval_example.json -p val"
   ]
  },
  {
   "cell_type": "markdown",
   "metadata": {
    "collapsed": false
   },
   "source": []
  }
 ],
 "metadata": {
  "kernelspec": {
   "display_name": "Python 3",
   "language": "python",
   "name": "python3"
  },
  "language_info": {
   "codemirror_mode": {
    "name": "ipython",
    "version": 3
   },
   "file_extension": ".py",
   "mimetype": "text/x-python",
   "name": "python",
   "nbconvert_exporter": "python",
   "pygments_lexer": "ipython3",
   "version": "3.11.4"
  }
 },
 "nbformat": 4,
 "nbformat_minor": 0
}
